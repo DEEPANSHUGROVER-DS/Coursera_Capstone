{
   "cell_type": "markdown",
   "metadata": {
    "button": false,
    "deletable": true,
    "editable": true,
    "new_sheet": false,
    "run_control": {
     "read_only": false
    }
   },
   "source": [
    "## notebook is to be used for capstone project\n",]
  }

import pandas as pd
import numpy as np
print("Hello Capstone Project Course!")
